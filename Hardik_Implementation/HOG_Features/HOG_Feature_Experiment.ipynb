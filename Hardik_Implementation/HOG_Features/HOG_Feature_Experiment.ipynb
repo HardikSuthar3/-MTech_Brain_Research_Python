{
 "cells": [
  {
   "cell_type": "code",
   "execution_count": 1,
   "metadata": {
    "collapsed": true
   },
   "outputs": [],
   "source": [
    "import tensorflow as tf\n",
    "import numpy as np\n",
    "import matplotlib.pyplot as plt\n",
    "from sklearn.decomposition import pca\n",
    "from sklearn.model_selection import train_test_split\n",
    "import scipy.io as sio"
   ]
  },
  {
   "cell_type": "code",
   "execution_count": 2,
   "metadata": {
    "collapsed": true
   },
   "outputs": [],
   "source": [
    "sess = tf.Session()\n",
    "\n",
    "def get_hog_features():\n",
    "    data = sio.loadmat('/home/hardik/Desktop/MTech_Project/Data/HOG_Feature_Data/area2.mat')\n",
    "    features = data['area_feature']\n",
    "    labels = data['area_label'].flatten()\n",
    "    labels = sess.run(tf.one_hot(labels, depth=4))\n",
    "    # print(labels.shape)\n",
    "\n",
    "    # Normalizing The Data\n",
    "    from sklearn.preprocessing import Normalizer\n",
    "    normalized_features = Normalizer().fit(features).transform(features)\n",
    "\n",
    "    # Dimension Reduction\n",
    "    pcaModel = pca.PCA(n_components=50)\n",
    "    pca_features = pcaModel.fit_transform(normalized_features)\n",
    "\n",
    "    return {'features': pca_features, 'labels': labels}\n",
    "\n",
    "def NNModel(dimensions=[50, 25, 10], n_class=4):\n",
    "    x = tf.placeholder(tf.float32, shape=[None, dimensions[0]])\n",
    "    y = tf.placeholder(tf.float32, shape=[None, n_class])\n",
    "\n",
    "    current_input = x\n",
    "\n",
    "    # Build The classifier\n",
    "    weights = []\n",
    "    biases = []\n",
    "    for layer_i, n_output in enumerate(dimensions[1:]):\n",
    "        n_input = int(current_input.get_shape()[1])\n",
    "        w = tf.Variable(tf.random_normal(shape=[n_input, n_output]), tf.float32)\n",
    "        b = tf.Variable(tf.zeros([n_output]), tf.float32)\n",
    "        weights.append(w)\n",
    "        biases.append(b)\n",
    "        current_input = tf.nn.tanh(tf.add(tf.matmul(current_input, w), b))\n",
    "\n",
    "    # Creating Output Layer\n",
    "    n_input = int(current_input.get_shape()[1])\n",
    "    w = tf.Variable(tf.random_normal(shape=[n_input, n_class]), dtype=tf.float32)\n",
    "    b = tf.Variable(tf.zeros(shape=[n_class]), dtype=tf.float32)\n",
    "    output = tf.add(tf.matmul(current_input, w), b)\n",
    "    cross_entropy = tf.reduce_mean(tf.nn.softmax_cross_entropy_with_logits(output, y))\n",
    "    return {'x': x, 'y': y, 'weights': weights, 'biases': biases, 'cross_entropy': cross_entropy, 'output': output}"
   ]
  },
  {
   "cell_type": "code",
   "execution_count": 3,
   "metadata": {
    "collapsed": true
   },
   "outputs": [],
   "source": [
    "data = get_hog_features()\n",
    "features = data['features']\n",
    "labels = data['labels']\n",
    "\n",
    "\"\"\"Neural Network Parameters\"\"\"\n",
    "learning_rate = 0.01\n",
    "\n",
    "NN = NNModel()\n",
    "output = NN['output']\n",
    "y_pred = tf.nn.softmax(output)\n",
    "correct_prediction = tf.equal(tf.argmax(y_pred, 1), tf.argmax(NN['y'], 1))\n",
    "accuracy = tf.reduce_mean(tf.cast(correct_prediction, tf.float32))\n",
    "\n",
    "# optimizer = tf.train.AdamOptimizer(learning_rate).minimize(NN['cross_entropy'])\n",
    "saver = tf.train.Saver()\n",
    "\n",
    "saver.restore(sess=sess,\n",
    "              save_path='/home/hardik/Desktop/MTech_Project/Scripts/Python/MTech_Brain_Research_Python/SavedModels/nm_hog.ckpt-150')\n",
    "\n",
    "Accuracy = sess.run(accuracy, feed_dict={NN['x']: features, NN['y']: labels})"
   ]
  },
  {
   "cell_type": "code",
   "execution_count": 4,
   "metadata": {
    "collapsed": true
   },
   "outputs": [],
   "source": [
    "result = sess.run(y_pred, feed_dict={NN['x']: features})\n",
    "ind = np.argmax(labels, axis=1)"
   ]
  },
  {
   "cell_type": "code",
   "execution_count": 5,
   "metadata": {
    "collapsed": false
   },
   "outputs": [
    {
     "name": "stdout",
     "output_type": "stream",
     "text": [
      "0.252443740232\n"
     ]
    }
   ],
   "source": [
    "posterior = 0.0\n",
    "for row, i in enumerate(ind):\n",
    "    posterior = posterior + result[row, i]\n",
    "print(posterior/features.shape[0])"
   ]
  },
  {
   "cell_type": "code",
   "execution_count": null,
   "metadata": {
    "collapsed": true
   },
   "outputs": [],
   "source": [
    "sess.close()"
   ]
  }
 ],
 "metadata": {
  "kernelspec": {
   "display_name": "Python 3",
   "language": "python",
   "name": "python3"
  },
  "language_info": {
   "codemirror_mode": {
    "name": "ipython",
    "version": 3.0
   },
   "file_extension": ".py",
   "mimetype": "text/x-python",
   "name": "python",
   "nbconvert_exporter": "python",
   "pygments_lexer": "ipython3",
   "version": "3.5.2"
  }
 },
 "nbformat": 4,
 "nbformat_minor": 0
}
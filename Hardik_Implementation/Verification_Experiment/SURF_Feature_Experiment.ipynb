{
 "cells": [
  {
   "cell_type": "code",
   "execution_count": null,
   "metadata": {
    "collapsed": true
   },
   "outputs": [],
   "source": [
    "import tensorflow as tf\n",
    "import numpy as np\n",
    "import scipy.io as sio\n",
    "from sklearn.model_selection import train_test_split\n",
    "from tensorflow.contrib.layers import batch_norm\n",
    "import sklearn.preprocessing as preprocess\n"
   ]
  },
  {
   "cell_type": "code",
   "execution_count": null,
   "metadata": {},
   "outputs": [],
   "source": [
    "sess = tf.Session()\n",
    "# Configure Neural Network\n",
    "learning_rate = 0.01\n",
    "batch_size = 60\n",
    "training_epochs = 150\n",
    "display_step = 100\n",
    "\n",
    "# Network Parameters\n",
    "n_hidden_1 = 50  # 1st layer number of features\n",
    "n_hidden_2 = 25  # 2nd layer number of features\n",
    "n_hidden_3 = 10  # 2nd layer number of features\n",
    "n_input = 64  # SURF data Feature Size\n",
    "n_classes = 4  # Total Classes\n",
    "\n",
    "\n",
    "# Build Neural Network\n",
    "def NNModl(dimensions=[64, 50, 25, 10], n_class=4):\n",
    "    X = tf.placeholder(dtype=tf.float32, shape=[None, dimensions[0]])\n",
    "    Y = tf.placeholder(dtype=tf.float32, shape=[None, n_class])\n",
    "    current_input = X\n",
    "\n",
    "    # Making The Classifier\n",
    "    weights = []\n",
    "    biases = []\n",
    "    for layer_i, n_output in enumerate(dimensions[1:]):\n",
    "        n_input = int(current_input.get_shape()[1])\n",
    "        w = tf.Variable(tf.random_normal(shape=[n_input, n_output]), dtype=tf.float32, name='Weights_%d' % layer_i)\n",
    "        b = tf.Variable(tf.zeros([n_output]), dtype=tf.float32, name='Biases_%d' % layer_i)\n",
    "        weights.append(w)\n",
    "        biases.append(b)\n",
    "        current_input = tf.nn.tanh(tf.add(tf.matmul(current_input, w), b))\n",
    "\n",
    "    # Create Output Classification Layer\n",
    "    n_input = int(current_input.get_shape()[1])\n",
    "    n_output = n_class\n",
    "    w = tf.Variable(tf.random_normal([n_input, n_output]), name='Weights_Output', dtype=tf.float32)\n",
    "    b = tf.Variable(tf.zeros([n_output]), name='Biases_Output', dtype=tf.float32)\n",
    "\n",
    "    weights.append(w)\n",
    "    biases.append(b)\n",
    "\n",
    "    output = tf.add(tf.matmul(current_input, w), b)\n",
    "\n",
    "    cross_entropy = tf.reduce_mean(tf.nn.softmax_cross_entropy_with_logits(logits=output, labels=Y))\n",
    "\n",
    "    return {'x': X, 'y': Y, 'weights': weights, 'biases': biases, 'cross_entropy': cross_entropy, 'output': output}\n"
   ]
  }
 ],
 "metadata": {
  "kernelspec": {
   "display_name": "Python 2",
   "language": "python",
   "name": "python2"
  },
  "language_info": {
   "codemirror_mode": {
    "name": "ipython",
    "version": 2.0
   },
   "file_extension": ".py",
   "mimetype": "text/x-python",
   "name": "python",
   "nbconvert_exporter": "python",
   "pygments_lexer": "ipython2",
   "version": "2.7.6"
  }
 },
 "nbformat": 4,
 "nbformat_minor": 0
}